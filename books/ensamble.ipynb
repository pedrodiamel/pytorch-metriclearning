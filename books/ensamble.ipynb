{
 "cells": [
  {
   "cell_type": "code",
   "execution_count": 1,
   "metadata": {},
   "outputs": [],
   "source": [
    "# STD MODULE\n",
    "import os\n",
    "import sys\n",
    "import numpy as np\n",
    "import cv2\n",
    "import pandas as pd\n",
    "\n",
    "# TORCH MODULE\n",
    "import torch\n",
    "import torch.backends.cudnn as cudnn\n",
    "from torch.utils.data import Dataset, DataLoader\n",
    "from torch.utils.data.sampler import SubsetRandomSampler\n",
    "from torchvision import transforms, utils\n",
    "\n",
    "# PYTVISION MODULE\n",
    "from pytvision.transforms import transforms as mtrans\n",
    "from pytvision import visualization as view\n",
    "\n",
    "# LOCAL MODULE\n",
    "sys.path.append('../')\n",
    "from torchlib.datasets.factory  import FactoryDataset \n",
    "from torchlib.datasets import Dataset, SecuencialSamplesDataset, TripletsDataset\n",
    "from torchlib.neuralnet import TripletNeuralNet, TripletEnsambleNeuralNet\n",
    "from misc import get_transforms_aug, get_transforms_det\n",
    "from torchlib.ensamble import PoolNet\n",
    "\n",
    "\n",
    "import matplotlib.pyplot"
   ]
  },
  {
   "cell_type": "code",
   "execution_count": null,
   "metadata": {},
   "outputs": [],
   "source": []
  },
  {
   "cell_type": "code",
   "execution_count": 2,
   "metadata": {},
   "outputs": [
    {
     "name": "stdout",
     "output_type": "stream",
     "text": [
      "/home/fernandez/.datasets\n",
      "ferp\n"
     ]
    }
   ],
   "source": [
    "pathname = os.path.expanduser( '~/.datasets' )\n",
    "name_dataset=FactoryDataset.ferp\n",
    "project='../out/tripletruns'\n",
    "cuda=False\n",
    "seed=1\n",
    "gpu=1\n",
    "batch_size=30\n",
    "workers=30\n",
    "num_input_channels=3\n",
    "parallel=False\n",
    "\n",
    "print(pathname)\n",
    "print(name_dataset)\n"
   ]
  },
  {
   "cell_type": "code",
   "execution_count": null,
   "metadata": {},
   "outputs": [],
   "source": []
  },
  {
   "cell_type": "code",
   "execution_count": 3,
   "metadata": {},
   "outputs": [
    {
     "name": "stdout",
     "output_type": "stream",
     "text": [
      "triplet_preactresembnet18_hinge_adam_ferp_emb32_001\n",
      "triplet_resnetemb18_hinge_adam_ferp_emb32_001\n"
     ]
    }
   ],
   "source": [
    "!ls ../out/tripletruns/"
   ]
  },
  {
   "cell_type": "code",
   "execution_count": null,
   "metadata": {},
   "outputs": [],
   "source": []
  },
  {
   "cell_type": "code",
   "execution_count": 5,
   "metadata": {},
   "outputs": [
    {
     "name": "stderr",
     "output_type": "stream",
     "text": [
      "Without the incoming socket you cannot receive events from the server or register event handlers to your Visdom client.\n"
     ]
    },
    {
     "name": "stdout",
     "output_type": "stream",
     "text": [
      "=> loading checkpoint '../out/tripletruns/triplet_preactresembnet18_hinge_adam_ferp_emb32_001/models/model_best.pth.tar'\n"
     ]
    },
    {
     "name": "stderr",
     "output_type": "stream",
     "text": [
      "Without the incoming socket you cannot receive events from the server or register event handlers to your Visdom client.\n"
     ]
    },
    {
     "name": "stdout",
     "output_type": "stream",
     "text": [
      "=> loaded checkpoint for preactresembnet18 arch!\n",
      "=> loading checkpoint '../out/tripletruns/triplet_preactresembnet18_hinge_adam_ferp_emb32_001/models/model_best.pth.tar'\n",
      "=> loaded checkpoint for preactresembnet18 arch!\n"
     ]
    }
   ],
   "source": [
    "cudnn.benchmark = True\n",
    "dataprojects = [\n",
    "    ['triplet_preactresembnet18_hinge_adam_ferp_emb32_001', 'model_best.pth.tar'],   \n",
    "    ['triplet_preactresembnet18_hinge_adam_ferp_emb32_001', 'model_best.pth.tar'],\n",
    "]\n",
    "\n",
    "ensnet = TripletEnsambleNeuralNet( \n",
    "    no_cuda=cuda, \n",
    "    parallel=parallel, \n",
    "    seed=seed, \n",
    "    gpu=gpu, \n",
    "    )\n",
    "ensnet.create(dataprojects, project)\n",
    "\n",
    "    "
   ]
  },
  {
   "cell_type": "code",
   "execution_count": null,
   "metadata": {},
   "outputs": [],
   "source": []
  },
  {
   "cell_type": "code",
   "execution_count": 6,
   "metadata": {},
   "outputs": [
    {
     "name": "stdout",
     "output_type": "stream",
     "text": [
      "val\n",
      "[0 1 2 3 4 5 6 7]\n",
      "3191\n",
      "107\n"
     ]
    }
   ],
   "source": [
    "# validation dataset\n",
    "subset = FactoryDataset.validation\n",
    "size_input = 64\n",
    "\n",
    "data = Dataset(\n",
    "    data=FactoryDataset.factory(\n",
    "        pathname=pathname, \n",
    "        name=name_dataset, \n",
    "        subset=subset, \n",
    "        download=False \n",
    "    ),\n",
    "    num_channels=num_input_channels,\n",
    "    transform=get_transforms_det( size_input )\n",
    "    )\n",
    "dataloader = DataLoader(data, batch_size=batch_size, shuffle=False, num_workers=workers )\n",
    "\n",
    "\n",
    "print(subset)\n",
    "print(data.classes)\n",
    "print( len(data) )\n",
    "print(len(dataloader))\n"
   ]
  },
  {
   "cell_type": "code",
   "execution_count": null,
   "metadata": {},
   "outputs": [],
   "source": []
  },
  {
   "cell_type": "code",
   "execution_count": 7,
   "metadata": {},
   "outputs": [
    {
     "name": "stderr",
     "output_type": "stream",
     "text": [
      "100%|██████████| 107/107 [00:06<00:00, 17.81it/s]"
     ]
    },
    {
     "name": "stdout",
     "output_type": "stream",
     "text": [
      "DONE!!\n"
     ]
    },
    {
     "name": "stderr",
     "output_type": "stream",
     "text": [
      "\n"
     ]
    }
   ],
   "source": [
    "# representation data\n",
    "Z, Y = ensnet.representation( dataloader )\n",
    "print('DONE!!')"
   ]
  },
  {
   "cell_type": "code",
   "execution_count": 7,
   "metadata": {},
   "outputs": [
    {
     "name": "stdout",
     "output_type": "stream",
     "text": [
      "(3191, 32, 3)\n",
      "(3191,)\n"
     ]
    }
   ],
   "source": [
    "print(Z.shape)\n",
    "print(Y.shape)"
   ]
  },
  {
   "cell_type": "code",
   "execution_count": 12,
   "metadata": {},
   "outputs": [
    {
     "name": "stdout",
     "output_type": "stream",
     "text": [
      "torch.Size([1, 3, 64, 64])\n",
      "torch.Size([1, 32, 2])\n"
     ]
    }
   ],
   "source": [
    "image = data[0]['image']\n",
    "image = image.unsqueeze(dim=0)\n",
    "print(image.shape)\n",
    "\n",
    "zs = ensnet( image )\n",
    "print(zs.shape)\n"
   ]
  },
  {
   "cell_type": "code",
   "execution_count": null,
   "metadata": {},
   "outputs": [],
   "source": []
  },
  {
   "cell_type": "code",
   "execution_count": null,
   "metadata": {},
   "outputs": [],
   "source": []
  },
  {
   "cell_type": "code",
   "execution_count": null,
   "metadata": {},
   "outputs": [],
   "source": []
  },
  {
   "cell_type": "code",
   "execution_count": null,
   "metadata": {},
   "outputs": [],
   "source": []
  }
 ],
 "metadata": {
  "kernelspec": {
   "display_name": "Python 3",
   "language": "python",
   "name": "python3"
  },
  "language_info": {
   "codemirror_mode": {
    "name": "ipython",
    "version": 3
   },
   "file_extension": ".py",
   "mimetype": "text/x-python",
   "name": "python",
   "nbconvert_exporter": "python",
   "pygments_lexer": "ipython3",
   "version": "3.6.6"
  }
 },
 "nbformat": 4,
 "nbformat_minor": 2
}
