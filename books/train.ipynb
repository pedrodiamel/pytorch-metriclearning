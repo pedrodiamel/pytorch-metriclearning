{
 "cells": [
  {
   "cell_type": "markdown",
   "metadata": {},
   "source": [
    "# Triplet loss "
   ]
  },
  {
   "cell_type": "code",
   "execution_count": 1,
   "metadata": {},
   "outputs": [],
   "source": [
    "import os\n",
    "import sys\n",
    "import numpy as np\n",
    "import pandas as pd\n",
    "\n",
    "sys.path.append('../')\n",
    "\n",
    "import matplotlib.pyplot as plt\n",
    "%matplotlib inline"
   ]
  },
  {
   "cell_type": "code",
   "execution_count": 7,
   "metadata": {},
   "outputs": [
    {
     "name": "stdout",
     "output_type": "stream",
     "text": [
      "total 8\n",
      "4 exp_net_triplet_simplenet_001\n",
      "4 exp_triplet_embsimplenet_hinge_adam_mnist_001\n"
     ]
    }
   ],
   "source": [
    "# see the projects\n",
    "!ls ../out/tripletruns -s"
   ]
  },
  {
   "cell_type": "code",
   "execution_count": 8,
   "metadata": {},
   "outputs": [
    {
     "name": "stdout",
     "output_type": "stream",
     "text": [
      "../out/tripletruns/exp_triplet_embsimplenet_hinge_adam_mnist_001\n",
      "../out/tripletruns/exp_triplet_embsimplenet_hinge_adam_mnist_001/exp_triplet_embsimplenet_hinge_adam_mnist_001.log\n"
     ]
    }
   ],
   "source": [
    "PROJECT='../out/tripletruns'\n",
    "EXPNAME='exp_triplet_embsimplenet_hinge_adam_mnist_001'\n",
    "\n",
    "pathproject = os.path.join( PROJECT, EXPNAME )\n",
    "pathprojectlog = os.path.join( PROJECT, EXPNAME, '{}.log'.format(EXPNAME) )\n",
    "\n",
    "print(pathproject)\n",
    "print(pathprojectlog)"
   ]
  },
  {
   "cell_type": "code",
   "execution_count": 17,
   "metadata": {},
   "outputs": [
    {
     "name": "stdout",
     "output_type": "stream",
     "text": [
      "Load:  ../out/tripletruns/exp_triplet_embsimplenet_hinge_adam_mnist_001/exp_triplet_embsimplenet_hinge_adam_mnist_001.log\n",
      "SAVE:  log_train.csv,  log_val.csv\n",
      "DONE!!!\n"
     ]
    }
   ],
   "source": [
    "# generate log\n",
    "!python ../torchlib/tools/parse_log_triplet.py \\\n",
    "../out/tripletruns/exp_triplet_embsimplenet_hinge_adam_mnist_001/exp_triplet_embsimplenet_hinge_adam_mnist_001.log \\\n",
    "../out/tripletruns/exp_triplet_embsimplenet_hinge_adam_mnist_001/"
   ]
  },
  {
   "cell_type": "code",
   "execution_count": 9,
   "metadata": {},
   "outputs": [
    {
     "name": "stdout",
     "output_type": "stream",
     "text": [
      "../out/tripletruns/exp_triplet_embsimplenet_hinge_adam_mnist_001/log_train.csv\n",
      "../out/tripletruns/exp_triplet_embsimplenet_hinge_adam_mnist_001/log_val.csv\n"
     ]
    }
   ],
   "source": [
    "filenametrain = os.path.join( pathproject, 'log_{}.csv'.format( 'train' ) )\n",
    "filenameval = os.path.join( pathproject, 'log_{}.csv'.format( 'val' ) )\n",
    "print(filenametrain)\n",
    "print(filenameval)"
   ]
  },
  {
   "cell_type": "markdown",
   "metadata": {},
   "source": [
    "# Train analysis"
   ]
  },
  {
   "cell_type": "code",
   "execution_count": 11,
   "metadata": {},
   "outputs": [
    {
     "data": {
      "text/html": [
       "<div>\n",
       "<style>\n",
       "    .dataframe thead tr:only-child th {\n",
       "        text-align: right;\n",
       "    }\n",
       "\n",
       "    .dataframe thead th {\n",
       "        text-align: left;\n",
       "    }\n",
       "\n",
       "    .dataframe tbody tr th {\n",
       "        vertical-align: top;\n",
       "    }\n",
       "</style>\n",
       "<table border=\"1\" class=\"dataframe\">\n",
       "  <thead>\n",
       "    <tr style=\"text-align: right;\">\n",
       "      <th></th>\n",
       "      <th>acc</th>\n",
       "      <th>epoch</th>\n",
       "      <th>iter</th>\n",
       "      <th>loss</th>\n",
       "      <th>time</th>\n",
       "      <th>total</th>\n",
       "      <th>type</th>\n",
       "    </tr>\n",
       "  </thead>\n",
       "  <tbody>\n",
       "    <tr>\n",
       "      <th>0</th>\n",
       "      <td>0.5000</td>\n",
       "      <td>0</td>\n",
       "      <td>0</td>\n",
       "      <td>1.2932</td>\n",
       "      <td>6.4039</td>\n",
       "      <td>166</td>\n",
       "      <td>Train</td>\n",
       "    </tr>\n",
       "    <tr>\n",
       "      <th>1</th>\n",
       "      <td>0.5549</td>\n",
       "      <td>0</td>\n",
       "      <td>50</td>\n",
       "      <td>1.2289</td>\n",
       "      <td>0.0238</td>\n",
       "      <td>166</td>\n",
       "      <td>Train</td>\n",
       "    </tr>\n",
       "    <tr>\n",
       "      <th>2</th>\n",
       "      <td>0.6000</td>\n",
       "      <td>0</td>\n",
       "      <td>100</td>\n",
       "      <td>1.0801</td>\n",
       "      <td>0.0140</td>\n",
       "      <td>166</td>\n",
       "      <td>Train</td>\n",
       "    </tr>\n",
       "    <tr>\n",
       "      <th>3</th>\n",
       "      <td>0.6360</td>\n",
       "      <td>0</td>\n",
       "      <td>150</td>\n",
       "      <td>0.9755</td>\n",
       "      <td>0.0136</td>\n",
       "      <td>166</td>\n",
       "      <td>Train</td>\n",
       "    </tr>\n",
       "    <tr>\n",
       "      <th>4</th>\n",
       "      <td>0.7167</td>\n",
       "      <td>1</td>\n",
       "      <td>0</td>\n",
       "      <td>0.7675</td>\n",
       "      <td>6.9107</td>\n",
       "      <td>166</td>\n",
       "      <td>Train</td>\n",
       "    </tr>\n",
       "  </tbody>\n",
       "</table>\n",
       "</div>"
      ],
      "text/plain": [
       "      acc  epoch  iter    loss    time  total   type\n",
       "0  0.5000      0     0  1.2932  6.4039    166  Train\n",
       "1  0.5549      0    50  1.2289  0.0238    166  Train\n",
       "2  0.6000      0   100  1.0801  0.0140    166  Train\n",
       "3  0.6360      0   150  0.9755  0.0136    166  Train\n",
       "4  0.7167      1     0  0.7675  6.9107    166  Train"
      ]
     },
     "execution_count": 11,
     "metadata": {},
     "output_type": "execute_result"
    }
   ],
   "source": [
    "train = pd.read_csv(filenametrain)\n",
    "train.head()"
   ]
  },
  {
   "cell_type": "code",
   "execution_count": 13,
   "metadata": {},
   "outputs": [
    {
     "data": {
      "image/png": "[encoded data removed]",
      "text/plain": [
       "<matplotlib.figure.Figure at 0x7f0485e062b0>"
      ]
     },
     "metadata": {},
     "output_type": "display_data"
    }
   ],
   "source": [
    "\n",
    "indx   = train['type']\n",
    "xiter  = np.array(train['iter'])\n",
    "xacc  = np.array(train['acc'])\n",
    "xloss  = np.array(train['loss'])\n",
    "xepoch = np.array(train['epoch'])\n",
    "\n",
    "#plt.plot( xepoch, xtop1 )\n",
    "#plt.plot( xepoch, xtop2 )\n",
    "#plt.plot( xepoch, xloss )\n",
    "#plt.show()\n",
    "\n",
    "#plt.style.use('default')\n",
    "#plt.style.use('classic')\n",
    "#plt.style.use('ggplot')\n",
    "#plt.style.use('fivethirtyeight')\n",
    "#plt.style.use('dark_background')\n",
    "#plt.style.context('Solarize_Light2')\n",
    "\n",
    "_, ax1 = plt.subplots()\n",
    "ax2 = ax1.twinx()\n",
    "pl1 = ax1.plot(xepoch, xloss, label='loss')\n",
    "pl2 = ax2.plot(xepoch, xacc, 'r', label='acc')\n",
    "\n",
    "ax1.set_xlabel('iteration')\n",
    "ax1.set_ylabel('train loss')\n",
    "ax2.set_ylabel('test accuracy')\n",
    "ax2.set_title('Test Accuracy: {:.2f}'.format( xacc[-1] ) )\n",
    "\n",
    "#ax2.legend(loc='right')\n",
    "lns = pl1+pl2\n",
    "labs = [l.get_label() for l in lns]\n",
    "ax1.legend(lns, labs, loc='right')\n",
    "\n",
    "ax1.grid(True)\n",
    "\n"
   ]
  },
  {
   "cell_type": "code",
   "execution_count": null,
   "metadata": {},
   "outputs": [],
   "source": []
  },
  {
   "cell_type": "code",
   "execution_count": null,
   "metadata": {},
   "outputs": [],
   "source": []
  },
  {
   "cell_type": "code",
   "execution_count": null,
   "metadata": {},
   "outputs": [],
   "source": []
  },
  {
   "cell_type": "code",
   "execution_count": null,
   "metadata": {},
   "outputs": [],
   "source": []
  },
  {
   "cell_type": "code",
   "execution_count": null,
   "metadata": {},
   "outputs": [],
   "source": []
  },
  {
   "cell_type": "code",
   "execution_count": null,
   "metadata": {},
   "outputs": [],
   "source": []
  },
  {
   "cell_type": "code",
   "execution_count": null,
   "metadata": {},
   "outputs": [],
   "source": []
  },
  {
   "cell_type": "code",
   "execution_count": null,
   "metadata": {},
   "outputs": [],
   "source": []
  }
 ],
 "metadata": {
  "kernelspec": {
   "display_name": "Python 3 (ipykernel)",
   "language": "python",
   "name": "python3"
  },
  "language_info": {
   "codemirror_mode": {
    "name": "ipython",
    "version": 3
   },
   "file_extension": ".py",
   "mimetype": "text/x-python",
   "name": "python",
   "nbconvert_exporter": "python",
   "pygments_lexer": "ipython3",
   "version": "3.8.16"
  }
 },
 "nbformat": 4,
 "nbformat_minor": 2
}
