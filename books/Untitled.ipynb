{
 "cells": [
  {
   "cell_type": "code",
   "execution_count": 1,
   "metadata": {},
   "outputs": [],
   "source": [
    "# STD MODULE\n",
    "import os\n",
    "import sys\n",
    "import numpy as np\n",
    "import cv2\n",
    "import pandas as pd\n",
    "\n",
    "# TORCH MODULE\n",
    "import torch\n",
    "import torch.backends.cudnn as cudnn\n",
    "from torch.utils.data import Dataset, DataLoader\n",
    "from torch.utils.data.sampler import SubsetRandomSampler\n",
    "from torchvision import transforms, utils\n",
    "\n",
    "# PYTVISION MODULE\n",
    "from pytvision.transforms import transforms as mtrans\n",
    "from pytvision import visualization as view\n",
    "\n",
    "# LOCAL MODULE\n",
    "sys.path.append('../')\n",
    "from torchlib.datasets.factory  import FactoryDataset \n",
    "from torchlib.datasets import Dataset, SecuencialSamplesDataset, TripletsDataset\n",
    "from torchlib.neuralnet import NeuralNetTriplet, NeuralNetTripletEnsamble\n",
    "from misc import get_transforms_aug, get_transforms_det\n",
    "from torchlib.ensamble import PoolNet, ExpertNet\n",
    "\n",
    "\n",
    "import matplotlib.pyplot"
   ]
  },
  {
   "cell_type": "code",
   "execution_count": null,
   "metadata": {},
   "outputs": [],
   "source": []
  },
  {
   "cell_type": "code",
   "execution_count": 2,
   "metadata": {},
   "outputs": [
    {
     "name": "stdout",
     "output_type": "stream",
     "text": [
      "/home/fernandez/.datasets\n",
      "ferp\n"
     ]
    }
   ],
   "source": [
    "pathname = os.path.expanduser( '~/.datasets' )\n",
    "name_dataset=FactoryDataset.ferp\n",
    "project='../out/tripletruns'\n",
    "cuda=False\n",
    "seed=1\n",
    "gpu=1\n",
    "batch_size=30\n",
    "workers=30\n",
    "num_input_channels=3\n",
    "parallel=False\n",
    "\n",
    "print(pathname)\n",
    "print(name_dataset)"
   ]
  },
  {
   "cell_type": "code",
   "execution_count": null,
   "metadata": {},
   "outputs": [],
   "source": []
  },
  {
   "cell_type": "code",
   "execution_count": 3,
   "metadata": {},
   "outputs": [
    {
     "name": "stdout",
     "output_type": "stream",
     "text": [
      "triplet_preactresembnet18_hinge_adam_ferp_emb32_001\n",
      "triplet_resnetemb18_hinge_adam_ferp_emb32_001\n"
     ]
    }
   ],
   "source": [
    "!ls ../out/tripletruns/"
   ]
  },
  {
   "cell_type": "code",
   "execution_count": null,
   "metadata": {},
   "outputs": [],
   "source": []
  },
  {
   "cell_type": "code",
   "execution_count": 4,
   "metadata": {},
   "outputs": [
    {
     "name": "stderr",
     "output_type": "stream",
     "text": [
      "Without the incoming socket you cannot receive events from the server or register event handlers to your Visdom client.\n"
     ]
    },
    {
     "name": "stdout",
     "output_type": "stream",
     "text": [
      "=> loading checkpoint '../out/tripletruns/triplet_preactresembnet18_hinge_adam_ferp_emb32_001/models/model_best.pth.tar'\n"
     ]
    },
    {
     "name": "stderr",
     "output_type": "stream",
     "text": [
      "Without the incoming socket you cannot receive events from the server or register event handlers to your Visdom client.\n"
     ]
    },
    {
     "name": "stdout",
     "output_type": "stream",
     "text": [
      "=> loaded checkpoint for preactresembnet18 arch!\n",
      "=> loading checkpoint '../out/tripletruns/triplet_preactresembnet18_hinge_adam_ferp_emb32_001/models/model_best.pth.tar'\n",
      "=> loaded checkpoint for preactresembnet18 arch!\n"
     ]
    }
   ],
   "source": [
    "cudnn.benchmark = True\n",
    "\n",
    "dataprojects = [\n",
    "    ['../out/tripletruns/triplet_preactresembnet18_hinge_adam_ferp_emb32_001', 'model_best.pth.tar'],   \n",
    "    ['../out/tripletruns/triplet_preactresembnet18_hinge_adam_ferp_emb32_001', 'model_best.pth.tar'],\n",
    "]\n",
    "\n",
    "ensnet = NeuralNetTripletEnsamble( \n",
    "    no_cuda=cuda, \n",
    "    parallel=parallel, \n",
    "    seed=seed, \n",
    "    gpu=gpu, \n",
    "    )\n",
    "ensnet.create( dataprojects )\n"
   ]
  },
  {
   "cell_type": "code",
   "execution_count": null,
   "metadata": {},
   "outputs": [],
   "source": []
  },
  {
   "cell_type": "code",
   "execution_count": 5,
   "metadata": {},
   "outputs": [
    {
     "name": "stdout",
     "output_type": "stream",
     "text": [
      "torch.Size([1, 8])\n"
     ]
    }
   ],
   "source": [
    "\n",
    "x  = torch.randn(1, 3, 64, 64 ).cuda()\n",
    "expnet = ExpertNet( ensnet, num_classes=8, dim=32, num_channels=3 ).cuda()\n",
    "y = expnet( x )\n",
    "print(y.shape)\n"
   ]
  },
  {
   "cell_type": "code",
   "execution_count": null,
   "metadata": {},
   "outputs": [],
   "source": []
  },
  {
   "cell_type": "code",
   "execution_count": null,
   "metadata": {},
   "outputs": [],
   "source": []
  },
  {
   "cell_type": "code",
   "execution_count": null,
   "metadata": {},
   "outputs": [],
   "source": []
  },
  {
   "cell_type": "code",
   "execution_count": null,
   "metadata": {},
   "outputs": [],
   "source": []
  },
  {
   "cell_type": "code",
   "execution_count": null,
   "metadata": {},
   "outputs": [],
   "source": []
  },
  {
   "cell_type": "code",
   "execution_count": null,
   "metadata": {},
   "outputs": [],
   "source": []
  }
 ],
 "metadata": {
  "kernelspec": {
   "display_name": "Python 3",
   "language": "python",
   "name": "python3"
  },
  "language_info": {
   "codemirror_mode": {
    "name": "ipython",
    "version": 3
   },
   "file_extension": ".py",
   "mimetype": "text/x-python",
   "name": "python",
   "nbconvert_exporter": "python",
   "pygments_lexer": "ipython3",
   "version": "3.6.6"
  }
 },
 "nbformat": 4,
 "nbformat_minor": 2
}
